{
  "nbformat": 4,
  "nbformat_minor": 0,
  "metadata": {
    "colab": {
      "name": "AirBnb_NYC.ipynb",
      "provenance": [],
      "collapsed_sections": []
    },
    "kernelspec": {
      "name": "python3",
      "display_name": "Python 3"
    }
  },
  "cells": [
    {
      "cell_type": "code",
      "metadata": {
        "id": "oefxkegDZ7af",
        "colab_type": "code",
        "colab": {}
      },
      "source": [
        "import pandas as pd\n",
        "import numpy as np\n",
        "import seaborn as sns\n",
        "import matplotlib.pyplot as plt\n",
        "import warnings\n",
        "warnings.filterwarnings('ignore')\n",
        "%matplotlib inline\n",
        "plt.style.use('seaborn')"
      ],
      "execution_count": 120,
      "outputs": []
    },
    {
      "cell_type": "code",
      "metadata": {
        "id": "Jt5isTcfa6Td",
        "colab_type": "code",
        "colab": {}
      },
      "source": [
        "df = pd.read_csv('AB_NYC_2019.csv',index_col=None)"
      ],
      "execution_count": 121,
      "outputs": []
    },
    {
      "cell_type": "code",
      "metadata": {
        "id": "0Rnk-SNObLD0",
        "colab_type": "code",
        "colab": {
          "base_uri": "https://localhost:8080/",
          "height": 204
        },
        "outputId": "095a1b55-0814-433e-e7f6-5a80cb140d97"
      },
      "source": [
        "df.head()"
      ],
      "execution_count": 134,
      "outputs": [
        {
          "output_type": "execute_result",
          "data": {
            "text/html": [
              "<div>\n",
              "<style scoped>\n",
              "    .dataframe tbody tr th:only-of-type {\n",
              "        vertical-align: middle;\n",
              "    }\n",
              "\n",
              "    .dataframe tbody tr th {\n",
              "        vertical-align: top;\n",
              "    }\n",
              "\n",
              "    .dataframe thead th {\n",
              "        text-align: right;\n",
              "    }\n",
              "</style>\n",
              "<table border=\"1\" class=\"dataframe\">\n",
              "  <thead>\n",
              "    <tr style=\"text-align: right;\">\n",
              "      <th></th>\n",
              "      <th>id</th>\n",
              "      <th>name</th>\n",
              "      <th>neighbourhood_group</th>\n",
              "      <th>neighbourhood</th>\n",
              "      <th>room_type</th>\n",
              "      <th>price</th>\n",
              "      <th>number_of_reviews</th>\n",
              "    </tr>\n",
              "  </thead>\n",
              "  <tbody>\n",
              "    <tr>\n",
              "      <th>0</th>\n",
              "      <td>2539</td>\n",
              "      <td>Clean &amp; quiet apt home by the park</td>\n",
              "      <td>Brooklyn</td>\n",
              "      <td>Kensington</td>\n",
              "      <td>Private room</td>\n",
              "      <td>149</td>\n",
              "      <td>9</td>\n",
              "    </tr>\n",
              "    <tr>\n",
              "      <th>1</th>\n",
              "      <td>2595</td>\n",
              "      <td>Skylit Midtown Castle</td>\n",
              "      <td>Manhattan</td>\n",
              "      <td>Midtown</td>\n",
              "      <td>Entire home/apt</td>\n",
              "      <td>225</td>\n",
              "      <td>45</td>\n",
              "    </tr>\n",
              "    <tr>\n",
              "      <th>2</th>\n",
              "      <td>3647</td>\n",
              "      <td>THE VILLAGE OF HARLEM....NEW YORK !</td>\n",
              "      <td>Manhattan</td>\n",
              "      <td>Harlem</td>\n",
              "      <td>Private room</td>\n",
              "      <td>150</td>\n",
              "      <td>0</td>\n",
              "    </tr>\n",
              "    <tr>\n",
              "      <th>3</th>\n",
              "      <td>3831</td>\n",
              "      <td>Cozy Entire Floor of Brownstone</td>\n",
              "      <td>Brooklyn</td>\n",
              "      <td>Clinton Hill</td>\n",
              "      <td>Entire home/apt</td>\n",
              "      <td>89</td>\n",
              "      <td>270</td>\n",
              "    </tr>\n",
              "    <tr>\n",
              "      <th>4</th>\n",
              "      <td>5022</td>\n",
              "      <td>Entire Apt: Spacious Studio/Loft by central park</td>\n",
              "      <td>Manhattan</td>\n",
              "      <td>East Harlem</td>\n",
              "      <td>Entire home/apt</td>\n",
              "      <td>80</td>\n",
              "      <td>9</td>\n",
              "    </tr>\n",
              "  </tbody>\n",
              "</table>\n",
              "</div>"
            ],
            "text/plain": [
              "     id  ... number_of_reviews\n",
              "0  2539  ...                 9\n",
              "1  2595  ...                45\n",
              "2  3647  ...                 0\n",
              "3  3831  ...               270\n",
              "4  5022  ...                 9\n",
              "\n",
              "[5 rows x 7 columns]"
            ]
          },
          "metadata": {
            "tags": []
          },
          "execution_count": 134
        }
      ]
    },
    {
      "cell_type": "code",
      "metadata": {
        "id": "di4dab85b_X2",
        "colab_type": "code",
        "colab": {}
      },
      "source": [
        "df.drop(['host_id','host_name','latitude','longitude','minimum_nights','last_review','reviews_per_month','calculated_host_listings_count','availability_365'],axis=1,inplace=True)"
      ],
      "execution_count": 123,
      "outputs": []
    },
    {
      "cell_type": "code",
      "metadata": {
        "id": "Q1xts8C_ejde",
        "colab_type": "code",
        "colab": {
          "base_uri": "https://localhost:8080/",
          "height": 51
        },
        "outputId": "5a22025f-62b8-487d-f45e-a3143474d862"
      },
      "source": [
        "print('Features : ',df.shape[1])\n",
        "print('Data : ',df.shape[0])"
      ],
      "execution_count": 124,
      "outputs": [
        {
          "output_type": "stream",
          "text": [
            "Features :  7\n",
            "Data :  48895\n"
          ],
          "name": "stdout"
        }
      ]
    },
    {
      "cell_type": "markdown",
      "metadata": {
        "id": "BAlp6jXhewIf",
        "colab_type": "text"
      },
      "source": [
        "let's reduce this data to 2000 only."
      ]
    },
    {
      "cell_type": "code",
      "metadata": {
        "id": "vbU4mYyge01u",
        "colab_type": "code",
        "colab": {}
      },
      "source": [
        "df = df[:2000]"
      ],
      "execution_count": 125,
      "outputs": []
    },
    {
      "cell_type": "code",
      "metadata": {
        "id": "YXAg6tkacJRU",
        "colab_type": "code",
        "colab": {
          "base_uri": "https://localhost:8080/",
          "height": 255
        },
        "outputId": "642831cb-5867-4cc7-e9df-68fb0b9751e4"
      },
      "source": [
        "df.info()"
      ],
      "execution_count": 126,
      "outputs": [
        {
          "output_type": "stream",
          "text": [
            "<class 'pandas.core.frame.DataFrame'>\n",
            "RangeIndex: 2000 entries, 0 to 1999\n",
            "Data columns (total 7 columns):\n",
            " #   Column               Non-Null Count  Dtype \n",
            "---  ------               --------------  ----- \n",
            " 0   id                   2000 non-null   int64 \n",
            " 1   name                 2000 non-null   object\n",
            " 2   neighbourhood_group  2000 non-null   object\n",
            " 3   neighbourhood        2000 non-null   object\n",
            " 4   room_type            2000 non-null   object\n",
            " 5   price                2000 non-null   int64 \n",
            " 6   number_of_reviews    2000 non-null   int64 \n",
            "dtypes: int64(3), object(4)\n",
            "memory usage: 109.5+ KB\n"
          ],
          "name": "stdout"
        }
      ]
    },
    {
      "cell_type": "code",
      "metadata": {
        "id": "9pVKjmizfAeQ",
        "colab_type": "code",
        "colab": {
          "base_uri": "https://localhost:8080/",
          "height": 153
        },
        "outputId": "3a631a1d-4092-4381-fe0c-60ff26423c3d"
      },
      "source": [
        "df.isnull().sum()"
      ],
      "execution_count": 127,
      "outputs": [
        {
          "output_type": "execute_result",
          "data": {
            "text/plain": [
              "id                     0\n",
              "name                   0\n",
              "neighbourhood_group    0\n",
              "neighbourhood          0\n",
              "room_type              0\n",
              "price                  0\n",
              "number_of_reviews      0\n",
              "dtype: int64"
            ]
          },
          "metadata": {
            "tags": []
          },
          "execution_count": 127
        }
      ]
    },
    {
      "cell_type": "code",
      "metadata": {
        "id": "qtEFZbRMfyjn",
        "colab_type": "code",
        "colab": {}
      },
      "source": [
        "top_5_locations = df.groupby('neighbourhood_group')['id'].count().to_frame()"
      ],
      "execution_count": 128,
      "outputs": []
    },
    {
      "cell_type": "code",
      "metadata": {
        "id": "AXLkEGBBhdLJ",
        "colab_type": "code",
        "colab": {
          "base_uri": "https://localhost:8080/",
          "height": 235
        },
        "outputId": "b49a101a-6407-4d4f-f62b-49ec174179c0"
      },
      "source": [
        "top_5_locations.sort_values('id',0).head()"
      ],
      "execution_count": 129,
      "outputs": [
        {
          "output_type": "execute_result",
          "data": {
            "text/html": [
              "<div>\n",
              "<style scoped>\n",
              "    .dataframe tbody tr th:only-of-type {\n",
              "        vertical-align: middle;\n",
              "    }\n",
              "\n",
              "    .dataframe tbody tr th {\n",
              "        vertical-align: top;\n",
              "    }\n",
              "\n",
              "    .dataframe thead th {\n",
              "        text-align: right;\n",
              "    }\n",
              "</style>\n",
              "<table border=\"1\" class=\"dataframe\">\n",
              "  <thead>\n",
              "    <tr style=\"text-align: right;\">\n",
              "      <th></th>\n",
              "      <th>id</th>\n",
              "    </tr>\n",
              "    <tr>\n",
              "      <th>neighbourhood_group</th>\n",
              "      <th></th>\n",
              "    </tr>\n",
              "  </thead>\n",
              "  <tbody>\n",
              "    <tr>\n",
              "      <th>Staten Island</th>\n",
              "      <td>21</td>\n",
              "    </tr>\n",
              "    <tr>\n",
              "      <th>Bronx</th>\n",
              "      <td>24</td>\n",
              "    </tr>\n",
              "    <tr>\n",
              "      <th>Queens</th>\n",
              "      <td>117</td>\n",
              "    </tr>\n",
              "    <tr>\n",
              "      <th>Brooklyn</th>\n",
              "      <td>910</td>\n",
              "    </tr>\n",
              "    <tr>\n",
              "      <th>Manhattan</th>\n",
              "      <td>928</td>\n",
              "    </tr>\n",
              "  </tbody>\n",
              "</table>\n",
              "</div>"
            ],
            "text/plain": [
              "                      id\n",
              "neighbourhood_group     \n",
              "Staten Island         21\n",
              "Bronx                 24\n",
              "Queens               117\n",
              "Brooklyn             910\n",
              "Manhattan            928"
            ]
          },
          "metadata": {
            "tags": []
          },
          "execution_count": 129
        }
      ]
    },
    {
      "cell_type": "code",
      "metadata": {
        "id": "rbwPKqujh72M",
        "colab_type": "code",
        "colab": {
          "base_uri": "https://localhost:8080/",
          "height": 361
        },
        "outputId": "00e0f0a3-4b62-4421-abf0-dca6d384727e"
      },
      "source": [
        "sns.barplot(y=top_5_locations.index,x=top_5_locations.id)\n",
        "plt.xlabel('No. of hotels')\n",
        "plt.ylabel('location')\n",
        "plt.show()"
      ],
      "execution_count": 130,
      "outputs": [
        {
          "output_type": "display_data",
          "data": {
            "image/png": "[encoded data removed]",
            "text/plain": [
              "<Figure size 576x396 with 1 Axes>"
            ]
          },
          "metadata": {
            "tags": []
          }
        }
      ]
    },
    {
      "cell_type": "code",
      "metadata": {
        "id": "I4Dd1NUlcixe",
        "colab_type": "code",
        "colab": {
          "base_uri": "https://localhost:8080/",
          "height": 378
        },
        "outputId": "b680ddd7-88c1-4c4a-c480-2ebfac28c14b"
      },
      "source": [
        "sns.countplot(df['room_type'])"
      ],
      "execution_count": 131,
      "outputs": [
        {
          "output_type": "execute_result",
          "data": {
            "text/plain": [
              "<matplotlib.axes._subplots.AxesSubplot at 0x7f46de680080>"
            ]
          },
          "metadata": {
            "tags": []
          },
          "execution_count": 131
        },
        {
          "output_type": "display_data",
          "data": {
            "image/png": "[encoded data removed]",
            "text/plain": [
              "<Figure size 576x396 with 1 Axes>"
            ]
          },
          "metadata": {
            "tags": []
          }
        }
      ]
    },
    {
      "cell_type": "code",
      "metadata": {
        "id": "YLKhlIfHkVU_",
        "colab_type": "code",
        "colab": {
          "base_uri": "https://localhost:8080/",
          "height": 458
        },
        "outputId": "5ceb755a-c16a-44bb-c0e4-86ccbe57f3da"
      },
      "source": [
        "sns.jointplot(df.number_of_reviews,df.price,kind='reg',color='orange')"
      ],
      "execution_count": 139,
      "outputs": [
        {
          "output_type": "execute_result",
          "data": {
            "text/plain": [
              "<seaborn.axisgrid.JointGrid at 0x7f46ddf2d588>"
            ]
          },
          "metadata": {
            "tags": []
          },
          "execution_count": 139
        },
        {
          "output_type": "display_data",
          "data": {
            "image/png": "[encoded data removed]",
            "text/plain": [
              "<Figure size 432x432 with 3 Axes>"
            ]
          },
          "metadata": {
            "tags": []
          }
        }
      ]
    },
    {
      "cell_type": "code",
      "metadata": {
        "id": "CDL6PM60jgDm",
        "colab_type": "code",
        "colab": {
          "base_uri": "https://localhost:8080/",
          "height": 378
        },
        "outputId": "916d4842-9571-4364-92cf-ce9265a6958a"
      },
      "source": [
        "sns.distplot(df.price,color='green')\n",
        "plt.axvline(df.price.mean())"
      ],
      "execution_count": 132,
      "outputs": [
        {
          "output_type": "execute_result",
          "data": {
            "text/plain": [
              "<matplotlib.lines.Line2D at 0x7f46de6240f0>"
            ]
          },
          "metadata": {
            "tags": []
          },
          "execution_count": 132
        },
        {
          "output_type": "display_data",
          "data": {
            "image/png": "[encoded data removed]",
            "text/plain": [
              "<Figure size 576x396 with 1 Axes>"
            ]
          },
          "metadata": {
            "tags": []
          }
        }
      ]
    },
    {
      "cell_type": "code",
      "metadata": {
        "id": "kqRoH4lAjxOn",
        "colab_type": "code",
        "colab": {
          "base_uri": "https://localhost:8080/",
          "height": 145
        },
        "outputId": "0067ceb4-3081-4442-be7c-c33ddc1610ee"
      },
      "source": [
        "df.sort_values('number_of_reviews',ascending=False)[['name','number_of_reviews']].head().style.background_gradient(cmap='Blues')"
      ],
      "execution_count": 143,
      "outputs": [
        {
          "output_type": "execute_result",
          "data": {
            "text/html": [
              "<style  type=\"text/css\" >\n",
              "    #T_c302f79a_d7de_11ea_93a2_0242ac1c0002row0_col1 {\n",
              "            background-color:  #08306b;\n",
              "            color:  #f1f1f1;\n",
              "        }    #T_c302f79a_d7de_11ea_93a2_0242ac1c0002row1_col1 {\n",
              "            background-color:  #c1d9ed;\n",
              "            color:  #000000;\n",
              "        }    #T_c302f79a_d7de_11ea_93a2_0242ac1c0002row2_col1 {\n",
              "            background-color:  #d1e2f3;\n",
              "            color:  #000000;\n",
              "        }    #T_c302f79a_d7de_11ea_93a2_0242ac1c0002row3_col1 {\n",
              "            background-color:  #e1edf8;\n",
              "            color:  #000000;\n",
              "        }    #T_c302f79a_d7de_11ea_93a2_0242ac1c0002row4_col1 {\n",
              "            background-color:  #f7fbff;\n",
              "            color:  #000000;\n",
              "        }</style><table id=\"T_c302f79a_d7de_11ea_93a2_0242ac1c0002\" ><thead>    <tr>        <th class=\"blank level0\" ></th>        <th class=\"col_heading level0 col0\" >name</th>        <th class=\"col_heading level0 col1\" >number_of_reviews</th>    </tr></thead><tbody>\n",
              "                <tr>\n",
              "                        <th id=\"T_c302f79a_d7de_11ea_93a2_0242ac1c0002level0_row0\" class=\"row_heading level0 row0\" >1879</th>\n",
              "                        <td id=\"T_c302f79a_d7de_11ea_93a2_0242ac1c0002row0_col0\" class=\"data row0 col0\" >Manhattan Lux Loft.Like.Love.Lots.Look !</td>\n",
              "                        <td id=\"T_c302f79a_d7de_11ea_93a2_0242ac1c0002row0_col1\" class=\"data row0 col1\" >540</td>\n",
              "            </tr>\n",
              "            <tr>\n",
              "                        <th id=\"T_c302f79a_d7de_11ea_93a2_0242ac1c0002level0_row1\" class=\"row_heading level0 row1\" >471</th>\n",
              "                        <td id=\"T_c302f79a_d7de_11ea_93a2_0242ac1c0002row1_col0\" class=\"data row1 col0\" >LG Private Room/Family Friendly</td>\n",
              "                        <td id=\"T_c302f79a_d7de_11ea_93a2_0242ac1c0002row1_col1\" class=\"data row1 col1\" >480</td>\n",
              "            </tr>\n",
              "            <tr>\n",
              "                        <th id=\"T_c302f79a_d7de_11ea_93a2_0242ac1c0002level0_row2\" class=\"row_heading level0 row2\" >1271</th>\n",
              "                        <td id=\"T_c302f79a_d7de_11ea_93a2_0242ac1c0002row2_col0\" class=\"data row2 col0\" >My Little Guest Room in Flushing</td>\n",
              "                        <td id=\"T_c302f79a_d7de_11ea_93a2_0242ac1c0002row2_col1\" class=\"data row2 col1\" >474</td>\n",
              "            </tr>\n",
              "            <tr>\n",
              "                        <th id=\"T_c302f79a_d7de_11ea_93a2_0242ac1c0002level0_row3\" class=\"row_heading level0 row3\" >113</th>\n",
              "                        <td id=\"T_c302f79a_d7de_11ea_93a2_0242ac1c0002row3_col0\" class=\"data row3 col0\" >Park Slope Green Guest House</td>\n",
              "                        <td id=\"T_c302f79a_d7de_11ea_93a2_0242ac1c0002row3_col1\" class=\"data row3 col1\" >467</td>\n",
              "            </tr>\n",
              "            <tr>\n",
              "                        <th id=\"T_c302f79a_d7de_11ea_93a2_0242ac1c0002level0_row4\" class=\"row_heading level0 row4\" >225</th>\n",
              "                        <td id=\"T_c302f79a_d7de_11ea_93a2_0242ac1c0002row4_col0\" class=\"data row4 col0\" >PRIVATE Room on Historic Sugar Hill</td>\n",
              "                        <td id=\"T_c302f79a_d7de_11ea_93a2_0242ac1c0002row4_col1\" class=\"data row4 col1\" >458</td>\n",
              "            </tr>\n",
              "    </tbody></table>"
            ],
            "text/plain": [
              "<pandas.io.formats.style.Styler at 0x7f46ddd51860>"
            ]
          },
          "metadata": {
            "tags": []
          },
          "execution_count": 143
        }
      ]
    },
    {
      "cell_type": "code",
      "metadata": {
        "id": "ud9uD9PisdHO",
        "colab_type": "code",
        "colab": {}
      },
      "source": [
        ""
      ],
      "execution_count": null,
      "outputs": []
    }
  ]
}